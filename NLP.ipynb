{
  "nbformat": 4,
  "nbformat_minor": 0,
  "metadata": {
    "colab": {
      "provenance": [],
      "gpuType": "T4",
      "authorship_tag": "ABX9TyN65tPySuxAHMFV+elP1jNo",
      "include_colab_link": true
    },
    "kernelspec": {
      "name": "python3",
      "display_name": "Python 3"
    },
    "language_info": {
      "name": "python"
    },
    "accelerator": "GPU"
  },
  "cells": [
    {
      "cell_type": "markdown",
      "metadata": {
        "id": "view-in-github",
        "colab_type": "text"
      },
      "source": [
        "<a href=\"https://colab.research.google.com/github/Gugo-le/school_record_/blob/main/NLP.ipynb\" target=\"_parent\"><img src=\"https://colab.research.google.com/assets/colab-badge.svg\" alt=\"Open In Colab\"/></a>"
      ]
    },
    {
      "cell_type": "markdown",
      "source": [
        "# 토큰화"
      ],
      "metadata": {
        "id": "lNQGqSS0n6P4"
      }
    },
    {
      "cell_type": "code",
      "execution_count": 3,
      "metadata": {
        "colab": {
          "base_uri": "https://localhost:8080/"
        },
        "id": "RRF9g2n7nv-D",
        "outputId": "a82b2f1f-d732-4f17-a8b8-4590859be8e8"
      },
      "outputs": [
        {
          "output_type": "stream",
          "name": "stdout",
          "text": [
            "[[1, 2, 3, 4, 5], [1, 2, 3, 6, 5], [2, 7, 4, 1]]\n",
            "{'today': 1, 'is': 2, 'a': 3, 'sunny': 4, 'day': 5, 'rainy': 6, 'it': 7}\n"
          ]
        }
      ],
      "source": [
        "import tensorflow as tf\n",
        "from tensorflow import keras\n",
        "from tensorflow.keras.preprocessing.text import Tokenizer\n",
        "\n",
        "sentences = [\n",
        "    'Today is a sunny day',\n",
        "    'Today is a rainy day',\n",
        "    'Is it sunny today?'\n",
        "]\n",
        "\n",
        "tokenizer = Tokenizer(num_words=100) # Tokenizer 객체를 만들 때 토큰화 할 수 있는 단어 개수를 지정합니다.(이 값은 말뭉치에서 추출할 수 있는 최대 토큰 개수입니다.)\n",
        "tokenizer.fit_on_texts(sentences) # fit_on_texts를 호출해 토큰화된 단어 인덱스를 만듭니다.\n",
        "word_index = tokenizer.word_index # word_index: 말뭉치 안에 있는 단어와 인덱스의 키/값 쌍이 출력됨.\n",
        "\n",
        "print(word_index)"
      ]
    },
    {
      "cell_type": "markdown",
      "source": [
        "# 문장을 시퀀스로 바꾸기"
      ],
      "metadata": {
        "id": "4zq5FwKXuI2L"
      }
    },
    {
      "cell_type": "code",
      "source": [
        "import tensorflow as tf\n",
        "from tensorflow import keras\n",
        "from tensorflow.keras.preprocessing.text import Tokenizer\n",
        "\n",
        "sentences = [\n",
        "    'Today is a sunny day',\n",
        "    'Today is a rainy day',\n",
        "    'Is it sunny today?'\n",
        "]\n",
        "\n",
        "tokenizer = Tokenizer(num_words=100) # Tokenizer 객체를 만들 때 토큰화 할 수 있는 단어 개수를 지정합니다.(이 값은 말뭉치에서 추출할 수 있는 최대 토큰 개수입니다.)\n",
        "tokenizer.fit_on_texts(sentences) # fit_on_texts를 호출해 토큰화된 단어 인덱스를 만듭니다.\n",
        "word_index = tokenizer.word_index # word_index: 말뭉치 안에 있는 단어와 인덱스의 키/값 쌍이 출력됨.\n",
        "\n",
        "sequences = tokenizer.texts_to_sequences(sentences)\n",
        "print(sequences)\n"
      ],
      "metadata": {
        "id": "rt6LEkfZn_1g"
      },
      "execution_count": null,
      "outputs": []
    }
  ]
}